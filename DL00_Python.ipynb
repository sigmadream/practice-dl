{
  "cells": [
    {
      "cell_type": "markdown",
      "metadata": {
        "id": "U9T_RlzgLhns"
      },
      "source": [
        "---\n",
        "title: 함수와 클래스\n",
        "---"
      ]
    },
    {
      "cell_type": "code",
      "execution_count": null,
      "metadata": {
        "colab": {
          "base_uri": "https://localhost:8080/"
        },
        "id": "6vCg0jDwLik6",
        "outputId": "d6932390-2889-4cc6-8a3a-81f2663d7cc6"
      },
      "outputs": [
        {
          "name": "stdout",
          "output_type": "stream",
          "text": [
            "[5, 3, 2, 1, 3, 2, 1]\n",
            "[1, 1, 2, 2, 3, 3, 5]\n"
          ]
        }
      ],
      "source": [
        "arr = [5,3,2,1,3,2,1] # 변수\n",
        "print(arr) # 함수\n",
        "for i in range(len(arr) - 1, 0, -1): # 반복\n",
        "  for j in range(i): # 반복\n",
        "    if arr[j] > arr[j + 1]: # 제어\n",
        "        arr[j], arr[j + 1] = arr[j + 1], arr[j] # 할당\n",
        "print(arr) # 함수"
      ]
    },
    {
      "cell_type": "code",
      "execution_count": null,
      "metadata": {
        "colab": {
          "base_uri": "https://localhost:8080/"
        },
        "id": "1Yp90izwLpfr",
        "outputId": "9b2a2e6a-b4fa-4eaf-81dc-b859266b7802"
      },
      "outputs": [
        {
          "name": "stdout",
          "output_type": "stream",
          "text": [
            "[5, 3, 2, 1, 3, 2, 1]\n",
            "[1, 1, 2, 2, 3, 3, 5]\n"
          ]
        }
      ],
      "source": [
        "arr = [5,3,2,1,3,2,1] # 변수\n",
        "print(arr) # 함수\n",
        "for i in range(len(arr) - 1, 0, -1):\n",
        "  swapped = False\n",
        "  for j in range(i):\n",
        "    if arr[j] > arr[j + 1]:\n",
        "      arr[j], arr[j + 1] = arr[j + 1], arr[j]\n",
        "      swapped = True\n",
        "  if not swapped:\n",
        "    break\n",
        "print(arr) # 함수"
      ]
    },
    {
      "cell_type": "code",
      "execution_count": null,
      "metadata": {
        "colab": {
          "base_uri": "https://localhost:8080/"
        },
        "id": "QuU2kC-iMEFe",
        "outputId": "73d3cbf0-57ef-4cff-ed81-7406e5fb948e"
      },
      "outputs": [
        {
          "name": "stdout",
          "output_type": "stream",
          "text": [
            "[5, 3, 2, 1, 3, 2, 1]\n",
            "[1, 1, 2, 2, 3, 3, 5]\n"
          ]
        }
      ],
      "source": [
        "arr = [5,3,2,1,3,2,1] # 변수\n",
        "print(arr) # 함수\n",
        "end = len(arr) - 1\n",
        "while end > 0:\n",
        "  last_swap = 0\n",
        "  for i in range(end):\n",
        "    if arr[i] > arr[i + 1]:\n",
        "      arr[i], arr[i + 1] = arr[i + 1], arr[i]\n",
        "      last_swap = i\n",
        "  end = last_swap\n",
        "print(arr) # 함수"
      ]
    },
    {
      "cell_type": "code",
      "execution_count": null,
      "metadata": {
        "colab": {
          "base_uri": "https://localhost:8080/"
        },
        "id": "O_qy4wlCMUOz",
        "outputId": "76537656-ff7b-41ef-c729-3f69774f9137"
      },
      "outputs": [
        {
          "name": "stdout",
          "output_type": "stream",
          "text": [
            "[5, 3, 2, 1, 3, 2, 1]\n",
            "[1, 1, 2, 2, 3, 3, 5]\n"
          ]
        }
      ],
      "source": [
        "arr = [5,3,2,1,3,2,1] # 변수\n",
        "print(arr) # 함수\n",
        "def bubble_sort(x):\n",
        "  arr = x.copy()\n",
        "  end = len(arr) - 1\n",
        "  while end > 0:\n",
        "    last_swap = 0\n",
        "    for i in range(end):\n",
        "      if arr[i] > arr[i + 1]:\n",
        "        arr[i], arr[i + 1] = arr[i + 1], arr[i]\n",
        "        last_swap = i\n",
        "    end = last_swap\n",
        "  return arr\n",
        "print(bubble_sort(arr)) # 함수"
      ]
    },
    {
      "cell_type": "code",
      "execution_count": null,
      "metadata": {
        "id": "6Q87xvPaMi-D"
      },
      "outputs": [],
      "source": [
        "class BubbleSort():\n",
        "  def __init__(self, x):\n",
        "    self.arr = x.copy()\n",
        "\n",
        "  def sort(self):\n",
        "    end = len(self.arr) - 1\n",
        "    while end > 0:\n",
        "      last_swap = 0\n",
        "      for i in range(end):\n",
        "        if self.arr[i] > self.arr[i + 1]:\n",
        "          self.arr[i], self.arr[i + 1] = self.arr[i + 1], self.arr[i]\n",
        "          last_swap = i\n",
        "      end = last_swap\n",
        "    return self.arr"
      ]
    },
    {
      "cell_type": "code",
      "execution_count": null,
      "metadata": {
        "colab": {
          "base_uri": "https://localhost:8080/"
        },
        "id": "a5kVK0MEM4CU",
        "outputId": "78d189b3-efd4-4f44-d556-cc80165c9d3d"
      },
      "outputs": [
        {
          "name": "stdout",
          "output_type": "stream",
          "text": [
            "[1, 1, 2, 2, 3, 3, 5]\n"
          ]
        }
      ],
      "source": [
        "bubble_sort = BubbleSort([5,3,2,1,3,2,1])\n",
        "sort_result = bubble_sort.sort()\n",
        "print(sort_result)"
      ]
    },
    {
      "cell_type": "code",
      "execution_count": null,
      "metadata": {
        "vscode": {
          "languageId": "r"
        }
      },
      "outputs": [],
      "source": [
        "bubble_sort <- function(x) {\n",
        "  n <- length(x)\n",
        "  for (i in 1:(n-1)) {\n",
        "    for (j in 1:(n-i)) {\n",
        "      if (x[j] > x[j+1]) {\n",
        "        temp <- x[j]\n",
        "        x[j] <- x[j+1]\n",
        "        x[j+1] <- temp\n",
        "      }\n",
        "    }\n",
        "  }\n",
        "  return(x)\n",
        "}"
      ]
    },
    {
      "cell_type": "code",
      "execution_count": null,
      "metadata": {
        "vscode": {
          "languageId": "r"
        }
      },
      "outputs": [
        {
          "name": "stdout",
          "output_type": "stream",
          "text": [
            "Input:  4 5 9 10 3 6 1 2 7 8 \n",
            "Output:  1 2 3 4 5 6 7 8 9 10 \n"
          ]
        }
      ],
      "source": [
        "x <- sample(1:10)\n",
        "cat(\"Input: \", x, \"\\n\")\n",
        "cat(\"Output: \", bubble_sort(x), \"\\n\")"
      ]
    },
    {
      "cell_type": "code",
      "execution_count": null,
      "metadata": {
        "vscode": {
          "languageId": "r"
        }
      },
      "outputs": [],
      "source": [
        "bubble_sort <- function(x) {\n",
        "  swapped <- TRUE\n",
        "  while (swapped) {\n",
        "    swapped <- FALSE\n",
        "    for (i in 1:(length(x) - 1)) {\n",
        "      if (x[i] > x[i + 1]) {\n",
        "        tmp <- x[i]\n",
        "        x[i] <- x[i + 1]\n",
        "        x[i + 1] <- tmp\n",
        "        swapped <- TRUE\n",
        "      }\n",
        "    }\n",
        "  }\n",
        "  return(x)\n",
        "}"
      ]
    },
    {
      "cell_type": "code",
      "execution_count": null,
      "metadata": {
        "vscode": {
          "languageId": "r"
        }
      },
      "outputs": [
        {
          "name": "stdout",
          "output_type": "stream",
          "text": [
            "Input:  1 2 3 4 9 6 10 7 8 5 \n",
            "Output:  1 2 3 4 5 6 7 8 9 10 \n"
          ]
        }
      ],
      "source": [
        "x <- sample(1:10)\n",
        "cat(\"Input: \", x, \"\\n\")\n",
        "cat(\"Output: \", bubble_sort(x), \"\\n\")"
      ]
    },
    {
      "cell_type": "code",
      "execution_count": null,
      "metadata": {
        "vscode": {
          "languageId": "r"
        }
      },
      "outputs": [],
      "source": []
    }
  ],
  "metadata": {
    "colab": {
      "provenance": []
    },
    "kernelspec": {
      "display_name": "Python 3",
      "name": "python3"
    },
    "language_info": {
      "name": "python"
    }
  },
  "nbformat": 4,
  "nbformat_minor": 0
}
