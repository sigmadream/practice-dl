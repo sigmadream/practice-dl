{
  "cells": [
    {
      "cell_type": "markdown",
      "metadata": {},
      "source": [
        "---\n",
        "title: Day6. RNN 학습하기 실습(Hands-On)\n",
        "---"
      ]
    },
    {
      "cell_type": "markdown",
      "metadata": {
        "id": "sr9HmHSBFYsD"
      },
      "source": [
        "## 데이터 확인"
      ]
    },
    {
      "cell_type": "code",
      "execution_count": 3,
      "metadata": {
        "colab": {
          "base_uri": "https://localhost:8080/",
          "height": 206
        },
        "id": "pJkKNobGckTd",
        "outputId": "b9969a72-a94f-4b2e-fc93-bebee5138aa0"
      },
      "outputs": [
        {
          "data": {
            "text/html": [
              "<div>\n",
              "<style scoped>\n",
              "    .dataframe tbody tr th:only-of-type {\n",
              "        vertical-align: middle;\n",
              "    }\n",
              "\n",
              "    .dataframe tbody tr th {\n",
              "        vertical-align: top;\n",
              "    }\n",
              "\n",
              "    .dataframe thead th {\n",
              "        text-align: right;\n",
              "    }\n",
              "</style>\n",
              "<table border=\"1\" class=\"dataframe\">\n",
              "  <thead>\n",
              "    <tr style=\"text-align: right;\">\n",
              "      <th></th>\n",
              "      <th>Date</th>\n",
              "      <th>Open</th>\n",
              "      <th>High</th>\n",
              "      <th>Low</th>\n",
              "      <th>Volume</th>\n",
              "      <th>Close</th>\n",
              "    </tr>\n",
              "  </thead>\n",
              "  <tbody>\n",
              "    <tr>\n",
              "      <th>0</th>\n",
              "      <td>2015-12-16</td>\n",
              "      <td>120</td>\n",
              "      <td>123</td>\n",
              "      <td>118</td>\n",
              "      <td>13181000</td>\n",
              "      <td>123</td>\n",
              "    </tr>\n",
              "    <tr>\n",
              "      <th>1</th>\n",
              "      <td>2015-12-17</td>\n",
              "      <td>124</td>\n",
              "      <td>126</td>\n",
              "      <td>122</td>\n",
              "      <td>17284900</td>\n",
              "      <td>123</td>\n",
              "    </tr>\n",
              "    <tr>\n",
              "      <th>2</th>\n",
              "      <td>2015-12-18</td>\n",
              "      <td>121</td>\n",
              "      <td>122</td>\n",
              "      <td>118</td>\n",
              "      <td>17948100</td>\n",
              "      <td>118</td>\n",
              "    </tr>\n",
              "    <tr>\n",
              "      <th>3</th>\n",
              "      <td>2015-12-21</td>\n",
              "      <td>120</td>\n",
              "      <td>120</td>\n",
              "      <td>116</td>\n",
              "      <td>11670000</td>\n",
              "      <td>117</td>\n",
              "    </tr>\n",
              "    <tr>\n",
              "      <th>4</th>\n",
              "      <td>2015-12-22</td>\n",
              "      <td>117</td>\n",
              "      <td>117</td>\n",
              "      <td>115</td>\n",
              "      <td>9689000</td>\n",
              "      <td>116</td>\n",
              "    </tr>\n",
              "  </tbody>\n",
              "</table>\n",
              "</div>"
            ],
            "text/plain": [
              "         Date  Open  High  Low    Volume  Close\n",
              "0  2015-12-16   120   123  118  13181000    123\n",
              "1  2015-12-17   124   126  122  17284900    123\n",
              "2  2015-12-18   121   122  118  17948100    118\n",
              "3  2015-12-21   120   120  116  11670000    117\n",
              "4  2015-12-22   117   117  115   9689000    116"
            ]
          },
          "execution_count": 3,
          "metadata": {},
          "output_type": "execute_result"
        }
      ],
      "source": [
        "import pandas as pd\n",
        "data = pd.read_csv(\"./data/Netflix_2015-2019.csv\")  # 데이터 파일을 읽어옴\n",
        "data.head()  # 5개의 데이터를 표시"
      ]
    },
    {
      "cell_type": "markdown",
      "metadata": {
        "id": "4LNetatTF0aK"
      },
      "source": [
        "## 데이터셋 전체 확인"
      ]
    },
    {
      "cell_type": "code",
      "execution_count": 4,
      "metadata": {
        "colab": {
          "base_uri": "https://localhost:8080/"
        },
        "id": "ZCiJ2_Rjc2l6",
        "outputId": "57dbff9b-701b-417b-9e76-9d785c35a156"
      },
      "outputs": [
        {
          "name": "stdout",
          "output_type": "stream",
          "text": [
            "<class 'pandas.core.frame.DataFrame'>\n",
            "RangeIndex: 967 entries, 0 to 966\n",
            "Data columns (total 6 columns):\n",
            " #   Column  Non-Null Count  Dtype \n",
            "---  ------  --------------  ----- \n",
            " 0   Date    967 non-null    object\n",
            " 1   Open    967 non-null    int64 \n",
            " 2   High    967 non-null    int64 \n",
            " 3   Low     967 non-null    int64 \n",
            " 4   Volume  967 non-null    int64 \n",
            " 5   Close   967 non-null    int64 \n",
            "dtypes: int64(5), object(1)\n",
            "memory usage: 45.5+ KB\n"
          ]
        }
      ],
      "source": [
        "data.info()"
      ]
    },
    {
      "cell_type": "markdown",
      "metadata": {
        "id": "vGLfLbnWF77G"
      },
      "source": [
        "## 데이터의 분포 확인"
      ]
    },
    {
      "cell_type": "code",
      "execution_count": 5,
      "metadata": {
        "colab": {
          "base_uri": "https://localhost:8080/",
          "height": 281
        },
        "id": "zEs0U1vXc5FT",
        "outputId": "e70e8ec4-f297-4ad4-9460-119721740703"
      },
      "outputs": [
        {
          "data": {
            "image/png": "[encoded data removed]",
            "text/plain": [
              "<Figure size 640x480 with 4 Axes>"
            ]
          },
          "metadata": {},
          "output_type": "display_data"
        }
      ],
      "source": [
        "import matplotlib.pyplot as plt\n",
        "data_used = data.iloc[:, 1:4]  # 개장가, 최고가, 최저가 추가\n",
        "data_used[\"Close\"] = data[\"Close\"]  # 종가 추가\n",
        "hist = data_used.hist()\n",
        "plt.show()"
      ]
    },
    {
      "cell_type": "markdown",
      "metadata": {
        "id": "b76kKxJIG8NC"
      },
      "source": [
        "## 넷플릭스 데이터셋 정의"
      ]
    },
    {
      "cell_type": "code",
      "execution_count": 6,
      "metadata": {
        "id": "yp2W9Hguc5BZ"
      },
      "outputs": [],
      "source": [
        "import numpy as np\n",
        "from torch.utils.data.dataset import Dataset\n",
        "\n",
        "class Netflix(Dataset):\n",
        "    def __init__(self):\n",
        "        self.csv = pd.read_csv(\"./data/Netflix_2015-2019.csv\")\n",
        "\n",
        "        self.data = self.csv.iloc[:, 1:4].values\n",
        "        self.data = self.data / np.max(self.data)\n",
        "\n",
        "        self.label = data[\"Close\"].values\n",
        "        self.label = self.label / np.max(self.label)\n",
        "\n",
        "    def __len__(self):\n",
        "        return len(self.data) - 30\n",
        "\n",
        "    def __getitem__(self, i):\n",
        "        data = self.data[i:i+30]\n",
        "        label = self.label[i+30]\n",
        "        return data, label"
      ]
    },
    {
      "cell_type": "code",
      "execution_count": null,
      "metadata": {},
      "outputs": [],
      "source": [
        "from torch.utils.data.dataloader import DataLoader\n",
        "dataset = Netflix()\n",
        "loader = DataLoader(dataset, batch_size=32)"
      ]
    },
    {
      "cell_type": "markdown",
      "metadata": {
        "id": "sbARkK8QHRSV"
      },
      "source": [
        "## RNN 클래스 정의하기\n"
      ]
    },
    {
      "cell_type": "code",
      "execution_count": 7,
      "metadata": {
        "id": "mdEc82M-c9jj"
      },
      "outputs": [],
      "source": [
        "import torch\n",
        "import torch.nn as nn\n",
        "\n",
        "class RNN(nn.Module):\n",
        "   def __init__(self):\n",
        "       super(RNN, self).__init__()\n",
        "       self.rnn = nn.RNN(input_size=3, hidden_size=8, num_layers=5, batch_first=True)\n",
        "       # (30,3) or (3,30)\n",
        "       # batch_first => (32,30,3) / (30,3,32)\n",
        "       \n",
        "       # 주가를 예측하는 MLP층 정의\n",
        "       self.fc1 = nn.Linear(in_features=240, out_features=64)\n",
        "       self.fc2 = nn.Linear(in_features=64, out_features=1)\n",
        "       self.relu = nn.ReLU() # 활성화 함수 정의\n",
        "\n",
        "   def forward(self, x, h0):\n",
        "       x, hn = self.rnn(x, h0) # RNN층의 출력\n",
        "\n",
        "       # MLP층의 입력으로 사용될 수 있도록 모양 변경\n",
        "       x = torch.reshape(x, (x.shape[0], -1))\n",
        "\n",
        "       # MLP 층을 이용해 종가를 예측\n",
        "       x = self.fc1(x)\n",
        "       x = self.relu(x)\n",
        "       x = self.fc2(x)\n",
        "\n",
        "       # 예측한 종가를 1차원 벡터로 표현\n",
        "       x = torch.flatten(x)\n",
        "\n",
        "       return x"
      ]
    },
    {
      "cell_type": "markdown",
      "metadata": {
        "id": "RVCO4Y3oHgXg"
      },
      "source": [
        "## 모델과 데이터셋 정의"
      ]
    },
    {
      "cell_type": "code",
      "execution_count": 8,
      "metadata": {
        "id": "oM1SrcgheUvr"
      },
      "outputs": [],
      "source": [
        "device = \"cuda\" if torch.cuda.is_available() else \"cpu\"\n",
        "model = RNN().to(device)  # 모델의 정의"
      ]
    },
    {
      "cell_type": "markdown",
      "metadata": {
        "id": "Uyae4x6PH3b5"
      },
      "source": [
        "## 최적화 정의"
      ]
    },
    {
      "cell_type": "code",
      "execution_count": 10,
      "metadata": {
        "id": "h3sPklHVHx0M"
      },
      "outputs": [],
      "source": [
        "from torch.optim.adam import Adam\n",
        "optim = Adam(params=model.parameters(), lr=0.0001) # 사용할 최적화를 설정"
      ]
    },
    {
      "cell_type": "markdown",
      "metadata": {
        "id": "OoIp7rzSH9ad"
      },
      "source": [
        "## 학습 루프 정의"
      ]
    },
    {
      "cell_type": "code",
      "execution_count": 11,
      "metadata": {
        "id": "HcxAojnrH5wl"
      },
      "outputs": [
        {
          "name": "stderr",
          "output_type": "stream",
          "text": [
            "epoch0 loss:0.1133282482624054: 100%|██████████| 30/30 [00:00<00:00, 119.58it/s] \n",
            "epoch1 loss:0.030863119289278984: 100%|██████████| 30/30 [00:00<00:00, 121.90it/s] \n",
            "epoch2 loss:0.012668101117014885: 100%|██████████| 30/30 [00:00<00:00, 123.85it/s]\n",
            "epoch3 loss:0.00995593797415495: 100%|██████████| 30/30 [00:00<00:00, 122.52it/s] \n",
            "epoch4 loss:0.009051559492945671: 100%|██████████| 30/30 [00:00<00:00, 129.73it/s] \n",
            "epoch5 loss:0.0077210282906889915: 100%|██████████| 30/30 [00:00<00:00, 123.01it/s]\n",
            "epoch6 loss:0.005778169259428978: 100%|██████████| 30/30 [00:00<00:00, 121.98it/s]\n",
            "epoch7 loss:0.0030504465103149414: 100%|██████████| 30/30 [00:00<00:00, 124.79it/s]\n",
            "epoch8 loss:0.00045336777111515403: 100%|██████████| 30/30 [00:00<00:00, 126.42it/s]\n",
            "epoch9 loss:0.0036704300437122583: 100%|██████████| 30/30 [00:00<00:00, 126.42it/s]\n",
            "epoch10 loss:0.0023120916448533535: 100%|██████████| 30/30 [00:00<00:00, 119.69it/s]\n",
            "epoch11 loss:0.005660854279994965: 100%|██████████| 30/30 [00:00<00:00, 130.78it/s] \n",
            "epoch12 loss:0.006029938813298941: 100%|██████████| 30/30 [00:00<00:00, 136.85it/s] \n",
            "epoch13 loss:0.005122475326061249: 100%|██████████| 30/30 [00:00<00:00, 122.28it/s] \n",
            "epoch14 loss:0.005853748880326748: 100%|██████████| 30/30 [00:00<00:00, 119.62it/s] \n",
            "epoch15 loss:0.006356183905154467: 100%|██████████| 30/30 [00:00<00:00, 122.83it/s] \n",
            "epoch16 loss:0.006075398065149784: 100%|██████████| 30/30 [00:00<00:00, 133.14it/s] \n",
            "epoch17 loss:0.00603263545781374: 100%|██████████| 30/30 [00:00<00:00, 123.29it/s]   \n",
            "epoch18 loss:0.006256675347685814: 100%|██████████| 30/30 [00:00<00:00, 130.87it/s]  \n",
            "epoch19 loss:0.006165366154164076: 100%|██████████| 30/30 [00:00<00:00, 125.39it/s] \n",
            "epoch20 loss:0.006183885503560305: 100%|██████████| 30/30 [00:00<00:00, 135.64it/s]  \n",
            "epoch21 loss:0.006131547968834639: 100%|██████████| 30/30 [00:00<00:00, 126.95it/s]  \n",
            "epoch22 loss:0.006229641381651163: 100%|██████████| 30/30 [00:00<00:00, 121.69it/s]  \n",
            "epoch23 loss:0.0061165704391896725: 100%|██████████| 30/30 [00:00<00:00, 134.40it/s] \n",
            "epoch24 loss:0.006140000652521849: 100%|██████████| 30/30 [00:00<00:00, 123.59it/s] \n",
            "epoch25 loss:0.0061017959378659725: 100%|██████████| 30/30 [00:00<00:00, 124.61it/s] \n",
            "epoch26 loss:0.006118049845099449: 100%|██████████| 30/30 [00:00<00:00, 119.02it/s]  \n",
            "epoch27 loss:0.006087516900151968: 100%|██████████| 30/30 [00:00<00:00, 130.29it/s]  \n",
            "epoch28 loss:0.006020728498697281: 100%|██████████| 30/30 [00:00<00:00, 125.25it/s]  \n",
            "epoch29 loss:0.006041453219950199: 100%|██████████| 30/30 [00:00<00:00, 132.88it/s] \n",
            "epoch30 loss:0.0060264477506279945: 100%|██████████| 30/30 [00:00<00:00, 121.10it/s] \n",
            "epoch31 loss:0.005958861205726862: 100%|██████████| 30/30 [00:00<00:00, 127.80it/s]  \n",
            "epoch32 loss:0.005957175046205521: 100%|██████████| 30/30 [00:00<00:00, 118.89it/s]  \n",
            "epoch33 loss:0.005941562820225954: 100%|██████████| 30/30 [00:00<00:00, 126.50it/s]  \n",
            "epoch34 loss:0.005897947121411562: 100%|██████████| 30/30 [00:00<00:00, 126.41it/s]  \n",
            "epoch35 loss:0.005903737619519234: 100%|██████████| 30/30 [00:00<00:00, 120.83it/s]  \n",
            "epoch36 loss:0.005882508587092161: 100%|██████████| 30/30 [00:00<00:00, 136.39it/s]  \n",
            "epoch37 loss:0.005844305735081434: 100%|██████████| 30/30 [00:00<00:00, 122.00it/s]  \n",
            "epoch38 loss:0.00581583334133029: 100%|██████████| 30/30 [00:00<00:00, 134.36it/s]   \n",
            "epoch39 loss:0.005784646607935429: 100%|██████████| 30/30 [00:00<00:00, 120.66it/s]  \n",
            "epoch40 loss:0.005783306900411844: 100%|██████████| 30/30 [00:00<00:00, 132.82it/s] \n",
            "epoch41 loss:0.005727968644350767: 100%|██████████| 30/30 [00:00<00:00, 114.25it/s]  \n",
            "epoch42 loss:0.005704001989215612: 100%|██████████| 30/30 [00:00<00:00, 118.70it/s] \n",
            "epoch43 loss:0.005667759105563164: 100%|██████████| 30/30 [00:00<00:00, 117.99it/s]  \n",
            "epoch44 loss:0.005675178486853838: 100%|██████████| 30/30 [00:00<00:00, 124.57it/s]  \n",
            "epoch45 loss:0.005601053591817617: 100%|██████████| 30/30 [00:00<00:00, 125.41it/s]  \n",
            "epoch46 loss:0.005596708972007036: 100%|██████████| 30/30 [00:00<00:00, 125.38it/s]  \n",
            "epoch47 loss:0.005540730431675911: 100%|██████████| 30/30 [00:00<00:00, 129.25it/s]  \n",
            "epoch48 loss:0.005552222486585379: 100%|██████████| 30/30 [00:00<00:00, 124.38it/s]  \n",
            "epoch49 loss:0.0054680658504366875: 100%|██████████| 30/30 [00:00<00:00, 128.92it/s] \n",
            "epoch50 loss:0.005474218633025885: 100%|██████████| 30/30 [00:00<00:00, 125.39it/s]  \n",
            "epoch51 loss:0.005416974890977144: 100%|██████████| 30/30 [00:00<00:00, 134.03it/s]  \n",
            "epoch52 loss:0.005408560857176781: 100%|██████████| 30/30 [00:00<00:00, 123.57it/s] \n",
            "epoch53 loss:0.005350365769118071: 100%|██████████| 30/30 [00:00<00:00, 129.45it/s]  \n",
            "epoch54 loss:0.005339012015610933: 100%|██████████| 30/30 [00:00<00:00, 118.51it/s]  \n",
            "epoch55 loss:0.005309702828526497: 100%|██████████| 30/30 [00:00<00:00, 124.97it/s]  \n",
            "epoch56 loss:0.005278876982629299: 100%|██████████| 30/30 [00:00<00:00, 122.95it/s] \n",
            "epoch57 loss:0.005240301601588726: 100%|██████████| 30/30 [00:00<00:00, 129.30it/s] \n",
            "epoch58 loss:0.0052159191109240055: 100%|██████████| 30/30 [00:00<00:00, 121.82it/s] \n",
            "epoch59 loss:0.00516312662512064: 100%|██████████| 30/30 [00:00<00:00, 127.80it/s]   \n",
            "epoch60 loss:0.005157516337931156: 100%|██████████| 30/30 [00:00<00:00, 132.02it/s] \n",
            "epoch61 loss:0.005105071235448122: 100%|██████████| 30/30 [00:00<00:00, 126.66it/s] \n",
            "epoch62 loss:0.005099133588373661: 100%|██████████| 30/30 [00:00<00:00, 133.47it/s]  \n",
            "epoch63 loss:0.005014801397919655: 100%|██████████| 30/30 [00:00<00:00, 126.49it/s]  \n",
            "epoch64 loss:0.004990304354578257: 100%|██████████| 30/30 [00:00<00:00, 136.48it/s] \n",
            "epoch65 loss:0.004957042634487152: 100%|██████████| 30/30 [00:00<00:00, 115.51it/s]  \n",
            "epoch66 loss:0.004911202006042004: 100%|██████████| 30/30 [00:00<00:00, 129.49it/s]  \n",
            "epoch67 loss:0.0048713963478803635: 100%|██████████| 30/30 [00:00<00:00, 126.50it/s] \n",
            "epoch68 loss:0.004812187515199184: 100%|██████████| 30/30 [00:00<00:00, 128.64it/s]  \n",
            "epoch69 loss:0.004762388300150633: 100%|██████████| 30/30 [00:00<00:00, 117.37it/s]  \n",
            "epoch70 loss:0.004720356781035662: 100%|██████████| 30/30 [00:00<00:00, 110.17it/s]  \n",
            "epoch71 loss:0.0046601807698607445: 100%|██████████| 30/30 [00:00<00:00, 110.69it/s] \n",
            "epoch72 loss:0.004588132258504629: 100%|██████████| 30/30 [00:00<00:00, 110.40it/s]  \n",
            "epoch73 loss:0.004531672690063715: 100%|██████████| 30/30 [00:00<00:00, 110.26it/s]  \n",
            "epoch74 loss:0.004467759281396866: 100%|██████████| 30/30 [00:00<00:00, 97.47it/s]   \n",
            "epoch75 loss:0.004409820772707462: 100%|██████████| 30/30 [00:00<00:00, 91.22it/s] \n",
            "epoch76 loss:0.004338240250945091: 100%|██████████| 30/30 [00:00<00:00, 95.92it/s] \n",
            "epoch77 loss:0.0042843446135520935: 100%|██████████| 30/30 [00:00<00:00, 96.10it/s]\n",
            "epoch78 loss:0.004217283800244331: 100%|██████████| 30/30 [00:00<00:00, 113.11it/s]  \n",
            "epoch79 loss:0.0041459971107542515: 100%|██████████| 30/30 [00:00<00:00, 111.51it/s] \n",
            "epoch80 loss:0.004060149192810059: 100%|██████████| 30/30 [00:00<00:00, 97.70it/s]   \n",
            "epoch81 loss:0.0040906621143221855: 100%|██████████| 30/30 [00:00<00:00, 71.76it/s]\n",
            "epoch82 loss:0.0038173487409949303: 100%|██████████| 30/30 [00:00<00:00, 113.22it/s] \n",
            "epoch83 loss:0.003970103804022074: 100%|██████████| 30/30 [00:00<00:00, 114.97it/s]  \n",
            "epoch84 loss:0.003781592706218362: 100%|██████████| 30/30 [00:00<00:00, 123.48it/s]  \n",
            "epoch85 loss:0.003906263969838619: 100%|██████████| 30/30 [00:00<00:00, 117.57it/s]  \n",
            "epoch86 loss:0.0037786427419632673: 100%|██████████| 30/30 [00:00<00:00, 116.23it/s] \n",
            "epoch87 loss:0.0037665064446628094: 100%|██████████| 30/30 [00:00<00:00, 120.12it/s] \n",
            "epoch88 loss:0.003673359751701355: 100%|██████████| 30/30 [00:00<00:00, 119.77it/s] \n",
            "epoch89 loss:0.0036173653788864613: 100%|██████████| 30/30 [00:00<00:00, 113.94it/s] \n",
            "epoch90 loss:0.0035650485660880804: 100%|██████████| 30/30 [00:00<00:00, 115.48it/s] \n",
            "epoch91 loss:0.0035149981267750263: 100%|██████████| 30/30 [00:00<00:00, 126.76it/s] \n",
            "epoch92 loss:0.0034552705474197865: 100%|██████████| 30/30 [00:00<00:00, 112.03it/s]\n",
            "epoch93 loss:0.0034008114598691463: 100%|██████████| 30/30 [00:00<00:00, 123.59it/s] \n",
            "epoch94 loss:0.003343059681355953: 100%|██████████| 30/30 [00:00<00:00, 121.64it/s] \n",
            "epoch95 loss:0.0032971641048789024: 100%|██████████| 30/30 [00:00<00:00, 116.74it/s] \n",
            "epoch96 loss:0.003225145861506462: 100%|██████████| 30/30 [00:00<00:00, 115.83it/s]  \n",
            "epoch97 loss:0.0031819292344152927: 100%|██████████| 30/30 [00:00<00:00, 128.48it/s]\n",
            "epoch98 loss:0.0031142625957727432: 100%|██████████| 30/30 [00:00<00:00, 116.01it/s] \n",
            "epoch99 loss:0.0030629942193627357: 100%|██████████| 30/30 [00:00<00:00, 124.85it/s] \n",
            "epoch100 loss:0.002995492424815893: 100%|██████████| 30/30 [00:00<00:00, 112.66it/s]  \n",
            "epoch101 loss:0.0029346959199756384: 100%|██████████| 30/30 [00:00<00:00, 119.34it/s] \n",
            "epoch102 loss:0.0028710351325571537: 100%|██████████| 30/30 [00:00<00:00, 118.52it/s] \n",
            "epoch103 loss:0.0028376334812492132: 100%|██████████| 30/30 [00:00<00:00, 121.42it/s] \n",
            "epoch104 loss:0.0027558174915611744: 100%|██████████| 30/30 [00:00<00:00, 117.53it/s] \n",
            "epoch105 loss:0.002681717276573181: 100%|██████████| 30/30 [00:00<00:00, 112.55it/s]  \n",
            "epoch106 loss:0.0026482255198061466: 100%|██████████| 30/30 [00:00<00:00, 118.73it/s] \n",
            "epoch107 loss:0.002609373303130269: 100%|██████████| 30/30 [00:00<00:00, 128.86it/s]  \n",
            "epoch108 loss:0.002561823930591345: 100%|██████████| 30/30 [00:00<00:00, 123.00it/s]  \n",
            "epoch109 loss:0.0025207102298736572: 100%|██████████| 30/30 [00:00<00:00, 114.42it/s] \n",
            "epoch110 loss:0.002469426952302456: 100%|██████████| 30/30 [00:00<00:00, 121.54it/s] \n",
            "epoch111 loss:0.0024231309071183205: 100%|██████████| 30/30 [00:00<00:00, 113.24it/s]\n",
            "epoch112 loss:0.002365459455177188: 100%|██████████| 30/30 [00:00<00:00, 117.43it/s]  \n",
            "epoch113 loss:0.0023124138824641705: 100%|██████████| 30/30 [00:00<00:00, 112.73it/s] \n",
            "epoch114 loss:0.002249119570478797: 100%|██████████| 30/30 [00:00<00:00, 116.26it/s] \n",
            "epoch115 loss:0.0021924935281276703: 100%|██████████| 30/30 [00:00<00:00, 116.57it/s]\n",
            "epoch116 loss:0.002154420129954815: 100%|██████████| 30/30 [00:00<00:00, 112.19it/s]  \n",
            "epoch117 loss:0.002107753185555339: 100%|██████████| 30/30 [00:00<00:00, 120.34it/s] \n",
            "epoch118 loss:0.0020624306052923203: 100%|██████████| 30/30 [00:00<00:00, 116.33it/s] \n",
            "epoch119 loss:0.00202119629830122: 100%|██████████| 30/30 [00:00<00:00, 125.36it/s]   \n",
            "epoch120 loss:0.001973542384803295: 100%|██████████| 30/30 [00:00<00:00, 116.95it/s]  \n",
            "epoch121 loss:0.001920867944136262: 100%|██████████| 30/30 [00:00<00:00, 122.57it/s]  \n",
            "epoch122 loss:0.0018701364751905203: 100%|██████████| 30/30 [00:00<00:00, 112.01it/s] \n",
            "epoch123 loss:0.0018160560866817832: 100%|██████████| 30/30 [00:00<00:00, 114.94it/s]\n",
            "epoch124 loss:0.001759301288984716: 100%|██████████| 30/30 [00:00<00:00, 122.99it/s]  \n",
            "epoch125 loss:0.0016985404072329402: 100%|██████████| 30/30 [00:00<00:00, 111.75it/s] \n",
            "epoch126 loss:0.001650456222705543: 100%|██████████| 30/30 [00:00<00:00, 123.63it/s]  \n",
            "epoch127 loss:0.0015937809366732836: 100%|██████████| 30/30 [00:00<00:00, 104.58it/s]\n",
            "epoch128 loss:0.0015555077698081732: 100%|██████████| 30/30 [00:00<00:00, 111.63it/s]\n",
            "epoch129 loss:0.0015194652369245887: 100%|██████████| 30/30 [00:00<00:00, 121.32it/s] \n",
            "epoch130 loss:0.001473985961638391: 100%|██████████| 30/30 [00:00<00:00, 118.15it/s]  \n",
            "epoch131 loss:0.0014418229693546891: 100%|██████████| 30/30 [00:00<00:00, 123.16it/s] \n",
            "epoch132 loss:0.0013955087633803487: 100%|██████████| 30/30 [00:00<00:00, 111.74it/s]\n",
            "epoch133 loss:0.0013522175140678883: 100%|██████████| 30/30 [00:00<00:00, 117.16it/s] \n",
            "epoch134 loss:0.001302353455685079: 100%|██████████| 30/30 [00:00<00:00, 119.08it/s] \n",
            "epoch135 loss:0.0012536747381091118: 100%|██████████| 30/30 [00:00<00:00, 118.57it/s] \n",
            "epoch136 loss:0.0012033925158903003: 100%|██████████| 30/30 [00:00<00:00, 128.07it/s]\n",
            "epoch137 loss:0.0011487404117360711: 100%|██████████| 30/30 [00:00<00:00, 118.63it/s]\n",
            "epoch138 loss:0.0011151385260745883: 100%|██████████| 30/30 [00:00<00:00, 116.61it/s]\n",
            "epoch139 loss:0.0010848306119441986: 100%|██████████| 30/30 [00:00<00:00, 121.17it/s]\n",
            "epoch140 loss:0.0010581339010968804: 100%|██████████| 30/30 [00:00<00:00, 112.66it/s] \n",
            "epoch141 loss:0.0010224267607554793: 100%|██████████| 30/30 [00:00<00:00, 123.86it/s]\n",
            "epoch142 loss:0.0009922855533659458: 100%|██████████| 30/30 [00:00<00:00, 113.65it/s]\n",
            "epoch143 loss:0.0009605060913600028: 100%|██████████| 30/30 [00:00<00:00, 126.86it/s] \n",
            "epoch144 loss:0.000924227642826736: 100%|██████████| 30/30 [00:00<00:00, 118.28it/s]  \n",
            "epoch145 loss:0.0008843218092806637: 100%|██████████| 30/30 [00:00<00:00, 120.95it/s]\n",
            "epoch146 loss:0.0008454030612483621: 100%|██████████| 30/30 [00:00<00:00, 119.41it/s] \n",
            "epoch147 loss:0.0008045530994422734: 100%|██████████| 30/30 [00:00<00:00, 115.48it/s] \n",
            "epoch148 loss:0.000767334655392915: 100%|██████████| 30/30 [00:00<00:00, 126.78it/s]  \n",
            "epoch149 loss:0.0007330970256589353: 100%|██████████| 30/30 [00:00<00:00, 120.77it/s] \n",
            "epoch150 loss:0.0006993492715992033: 100%|██████████| 30/30 [00:00<00:00, 116.16it/s] \n",
            "epoch151 loss:0.0006747493171133101: 100%|██████████| 30/30 [00:00<00:00, 110.30it/s] \n",
            "epoch152 loss:0.0006520745810121298: 100%|██████████| 30/30 [00:00<00:00, 121.44it/s] \n",
            "epoch153 loss:0.0006302078254520893: 100%|██████████| 30/30 [00:00<00:00, 118.10it/s] \n",
            "epoch154 loss:0.0006130611873231828: 100%|██████████| 30/30 [00:00<00:00, 111.79it/s]\n",
            "epoch155 loss:0.0005927855963818729: 100%|██████████| 30/30 [00:00<00:00, 112.85it/s] \n",
            "epoch156 loss:0.0005751944263465703: 100%|██████████| 30/30 [00:00<00:00, 111.45it/s] \n",
            "epoch157 loss:0.0005558125558309257: 100%|██████████| 30/30 [00:00<00:00, 112.56it/s]\n",
            "epoch158 loss:0.0005329706473276019: 100%|██████████| 30/30 [00:00<00:00, 120.48it/s] \n",
            "epoch159 loss:0.0005123721202835441: 100%|██████████| 30/30 [00:00<00:00, 116.03it/s] \n",
            "epoch160 loss:0.0004912657896056771: 100%|██████████| 30/30 [00:00<00:00, 114.78it/s] \n",
            "epoch161 loss:0.000469820894068107: 100%|██████████| 30/30 [00:00<00:00, 115.93it/s]  \n",
            "epoch162 loss:0.00045026993029750884: 100%|██████████| 30/30 [00:00<00:00, 118.67it/s]\n",
            "epoch163 loss:0.00043349116458557546: 100%|██████████| 30/30 [00:00<00:00, 118.30it/s]\n",
            "epoch164 loss:0.00041893270099535584: 100%|██████████| 30/30 [00:00<00:00, 115.44it/s]\n",
            "epoch165 loss:0.0004081387014593929: 100%|██████████| 30/30 [00:00<00:00, 116.95it/s] \n",
            "epoch166 loss:0.0003977203741669655: 100%|██████████| 30/30 [00:00<00:00, 119.47it/s] \n",
            "epoch167 loss:0.000391818699426949: 100%|██████████| 30/30 [00:00<00:00, 111.75it/s]  \n",
            "epoch168 loss:0.00038579796091653407: 100%|██████████| 30/30 [00:00<00:00, 119.55it/s]\n",
            "epoch169 loss:0.00038047824637033045: 100%|██████████| 30/30 [00:00<00:00, 113.89it/s]\n",
            "epoch170 loss:0.00037801385042257607: 100%|██████████| 30/30 [00:00<00:00, 110.56it/s]\n",
            "epoch171 loss:0.0003740711836144328: 100%|██████████| 30/30 [00:00<00:00, 118.63it/s]\n",
            "epoch172 loss:0.00036944469320587814: 100%|██████████| 30/30 [00:00<00:00, 99.85it/s]\n",
            "epoch173 loss:0.00036325736436992884: 100%|██████████| 30/30 [00:00<00:00, 122.54it/s]\n",
            "epoch174 loss:0.0003559450851753354: 100%|██████████| 30/30 [00:00<00:00, 117.81it/s] \n",
            "epoch175 loss:0.00034700174001045525: 100%|██████████| 30/30 [00:00<00:00, 123.13it/s]\n",
            "epoch176 loss:0.00033846087171696126: 100%|██████████| 30/30 [00:00<00:00, 119.09it/s]\n",
            "epoch177 loss:0.0003305237914901227: 100%|██████████| 30/30 [00:00<00:00, 112.44it/s] \n",
            "epoch178 loss:0.00032653583912178874: 100%|██████████| 30/30 [00:00<00:00, 124.61it/s]\n",
            "epoch179 loss:0.00031720136757940054: 100%|██████████| 30/30 [00:00<00:00, 111.00it/s]\n",
            "epoch180 loss:0.0003151640121359378: 100%|██████████| 30/30 [00:00<00:00, 110.58it/s] \n",
            "epoch181 loss:0.0003129615215584636: 100%|██████████| 30/30 [00:00<00:00, 121.27it/s]\n",
            "epoch182 loss:0.00031068839598447084: 100%|██████████| 30/30 [00:00<00:00, 119.12it/s]\n",
            "epoch183 loss:0.00030987217905931175: 100%|██████████| 30/30 [00:00<00:00, 119.89it/s]\n",
            "epoch184 loss:0.0003096576256211847: 100%|██████████| 30/30 [00:00<00:00, 113.49it/s] \n",
            "epoch185 loss:0.00030973891261965036: 100%|██████████| 30/30 [00:00<00:00, 116.75it/s]\n",
            "epoch186 loss:0.0003112372651230544: 100%|██████████| 30/30 [00:00<00:00, 125.94it/s] \n",
            "epoch187 loss:0.0003143460489809513: 100%|██████████| 30/30 [00:00<00:00, 118.02it/s]\n",
            "epoch188 loss:0.00031802227022126317: 100%|██████████| 30/30 [00:00<00:00, 129.65it/s]\n",
            "epoch189 loss:0.0003228485875297338: 100%|██████████| 30/30 [00:00<00:00, 115.67it/s] \n",
            "epoch190 loss:0.00032656837720423937: 100%|██████████| 30/30 [00:00<00:00, 121.05it/s]\n",
            "epoch191 loss:0.0003281572717241943: 100%|██████████| 30/30 [00:00<00:00, 124.44it/s] \n",
            "epoch192 loss:0.0003267954452894628: 100%|██████████| 30/30 [00:00<00:00, 112.61it/s] \n",
            "epoch193 loss:0.0003205299726687372: 100%|██████████| 30/30 [00:00<00:00, 115.31it/s] \n",
            "epoch194 loss:0.0003109335375484079: 100%|██████████| 30/30 [00:00<00:00, 125.52it/s] \n",
            "epoch195 loss:0.00030183859053067863: 100%|██████████| 30/30 [00:00<00:00, 120.50it/s]\n",
            "epoch196 loss:0.0002976426621899009: 100%|██████████| 30/30 [00:00<00:00, 115.44it/s] \n",
            "epoch197 loss:0.00030353126931004226: 100%|██████████| 30/30 [00:00<00:00, 116.80it/s]\n",
            "epoch198 loss:0.00032168166944757104: 100%|██████████| 30/30 [00:00<00:00, 114.43it/s]\n",
            "epoch199 loss:0.00035044897231273353: 100%|██████████| 30/30 [00:00<00:00, 114.56it/s]\n"
          ]
        }
      ],
      "source": [
        "import tqdm\n",
        "for epoch in range(200):\n",
        "   iterator = tqdm.tqdm(loader)\n",
        "   for data, label in iterator:\n",
        "       optim.zero_grad()\n",
        "\n",
        "       # 초기 은닉 상태\n",
        "       h0 = torch.zeros(5, data.shape[0], 8).to(device)\n",
        "\n",
        "       # 모델의 예측값\n",
        "       pred = model(data.type(torch.FloatTensor).to(device), h0)\n",
        "\n",
        "       # 손실의 계산\n",
        "       loss = nn.MSELoss()(pred, label.type(torch.FloatTensor).to(device))\n",
        "       \n",
        "       # 오차 역전파\n",
        "       loss.backward()  \n",
        "       \n",
        "       # 최적화 진행\n",
        "       optim.step() \n",
        "\n",
        "       iterator.set_description(f\"epoch{epoch} loss:{loss.item()}\")\n",
        "\n",
        "torch.save(model.state_dict(), \"./rnn.pth\")  # 모델 저장"
      ]
    },
    {
      "cell_type": "markdown",
      "metadata": {
        "id": "KTrFoQMuIHmB"
      },
      "source": [
        "## 모델 성능 평가하기"
      ]
    },
    {
      "cell_type": "code",
      "execution_count": 12,
      "metadata": {
        "colab": {
          "base_uri": "https://localhost:8080/"
        },
        "id": "iRA-KXvpH_3S",
        "outputId": "475ac5e6-2bad-474a-ff49-07615d702a31"
      },
      "outputs": [
        {
          "data": {
            "text/plain": [
              "0.0012640039203688502"
            ]
          },
          "execution_count": 12,
          "metadata": {},
          "output_type": "execute_result"
        }
      ],
      "source": [
        "import matplotlib.pyplot as plt\n",
        "\n",
        "# 예측값을 위한 데이터 로더\n",
        "loader = DataLoader(dataset, batch_size=1)  \n",
        "\n",
        "# 예측값들을 저장하는 리스트\n",
        "preds = []  \n",
        "total_loss = 0\n",
        "\n",
        "with torch.no_grad():\n",
        "   # 모델의 가중치 불러오기\n",
        "   model.load_state_dict(torch.load(\"rnn.pth\", map_location=device))\n",
        "\n",
        "   for data, label in loader:\n",
        "       h0 = torch.zeros(5, data.shape[0], 8).to(device)  # 초기 은닉상태 정의\n",
        "\n",
        "       # 모델의 예측값 출력\n",
        "       pred = model(data.type(torch.FloatTensor).to(device), h0)\n",
        "       preds.append(pred.item())  # 예측값을 리스트에 추가\n",
        "       loss = nn.MSELoss()(pred,\n",
        "                           label.type(torch.FloatTensor).to(device))  # 손실계산\n",
        "       total_loss += loss/len(loader)  # 손실의 평균치 계산\n",
        "\n",
        "total_loss.item()"
      ]
    },
    {
      "cell_type": "markdown",
      "metadata": {
        "id": "tSaOI22LIKEV"
      },
      "source": [
        "## 그림으로 확인하기"
      ]
    },
    {
      "cell_type": "code",
      "execution_count": 13,
      "metadata": {
        "colab": {
          "base_uri": "https://localhost:8080/",
          "height": 265
        },
        "id": "GqboVc6HINQv",
        "outputId": "b2e167e9-9de8-463f-8131-aa09cf3c118a"
      },
      "outputs": [
        {
          "data": {
            "image/png": "[encoded data removed]",
            "text/plain": [
              "<Figure size 640x480 with 1 Axes>"
            ]
          },
          "metadata": {},
          "output_type": "display_data"
        }
      ],
      "source": [
        "plt.plot(preds, label=\"prediction\")\n",
        "plt.plot(dataset.label[30:], label=\"actual\")\n",
        "plt.legend()\n",
        "plt.show()"
      ]
    },
    {
      "cell_type": "markdown",
      "metadata": {},
      "source": [
        "## 캘리포니아 집 값 예측"
      ]
    },
    {
      "cell_type": "markdown",
      "metadata": {},
      "source": [
        "### Loading the data, EDA and data preparation"
      ]
    },
    {
      "cell_type": "code",
      "execution_count": 3,
      "metadata": {},
      "outputs": [],
      "source": [
        "import pandas as pd\n",
        "from sklearn.datasets import fetch_california_housing\n",
        "_data = fetch_california_housing()\n",
        "df = pd.DataFrame(_data.data, columns=_data.feature_names)\n",
        "df['target'] = _data.target"
      ]
    },
    {
      "cell_type": "code",
      "execution_count": 9,
      "metadata": {},
      "outputs": [],
      "source": [
        "import torch\n",
        "from torch.utils.data import Dataset\n",
        "class MyDataset(Dataset):\n",
        "    def __init__(self, df=df):\n",
        "        self.x = df.iloc[:, :-1].values\n",
        "        self.y = df.iloc[:, -1:].values\n",
        "\n",
        "    def __len__(self):\n",
        "        return self.x.shape[0]\n",
        "\n",
        "    def __getitem__(self, index):\n",
        "        x = self.x[index]\n",
        "        y = self.y[index]\n",
        "        return torch.tensor(x, dtype=torch.float), torch.tensor(y, dtype=torch.float)"
      ]
    },
    {
      "cell_type": "code",
      "execution_count": 10,
      "metadata": {},
      "outputs": [
        {
          "name": "stdout",
          "output_type": "stream",
          "text": [
            "torch.Size([8]) torch.Size([1])\n"
          ]
        }
      ],
      "source": [
        "ds = MyDataset(df)\n",
        "sample = next(iter(ds))\n",
        "print(sample[0].shape, sample[1].shape)"
      ]
    },
    {
      "cell_type": "code",
      "execution_count": 12,
      "metadata": {},
      "outputs": [
        {
          "name": "stdout",
          "output_type": "stream",
          "text": [
            "DataLoader Completed\n"
          ]
        }
      ],
      "source": [
        "from torch.utils.data import DataLoader\n",
        "def prepare_loaders(df = df, index = 15640, batch_size = 512):\n",
        "\t# 1) Train Valids Split\n",
        "    train = df[:index].reset_index(drop = True)\n",
        "    valid = df[index:].reset_index(drop = True)\n",
        "    \n",
        "    # 2) train, valid -> MyDataset(Dataset) --> train_ds, valid_ds\n",
        "    train_ds = MyDataset(train)\n",
        "    valid_ds = MyDataset(valid)\n",
        "    \n",
        "    # 3) train_ds, valid_ds -> DataLoader -> train_loader, valid_loader\n",
        "    train_loader = DataLoader(train_ds, shuffle = True, batch_size = batch_size)\n",
        "    valid_loader = DataLoader(valid_ds, shuffle = False, batch_size = batch_size)\n",
        "    print('DataLoader Completed')\n",
        "    return train_loader, valid_loader\n",
        "\n",
        "train_loader, valid_loader = prepare_loaders(df = df, index = 15640, batch_size = 512)"
      ]
    },
    {
      "cell_type": "code",
      "execution_count": 13,
      "metadata": {},
      "outputs": [
        {
          "name": "stdout",
          "output_type": "stream",
          "text": [
            "torch.Size([512, 8]) torch.Size([512, 1])\n"
          ]
        }
      ],
      "source": [
        "sample = next(iter(train_loader))\n",
        "print(sample[0].shape, sample[1].shape)"
      ]
    },
    {
      "cell_type": "markdown",
      "metadata": {},
      "source": [
        "## RNN 매개변수"
      ]
    },
    {
      "cell_type": "code",
      "execution_count": 4,
      "metadata": {},
      "outputs": [],
      "source": [
        "input_size = 5 # 입력의 크기\n",
        "hidden_size = 8 # 은닉 상태의 크기"
      ]
    },
    {
      "cell_type": "code",
      "execution_count": 5,
      "metadata": {},
      "outputs": [],
      "source": [
        "import torch\n",
        "import torch.nn as nn\n",
        "# (batch_size, time_steps, input_size)\n",
        "# 배치 크기는 1, 10번의 시점동안 5차원의 입력 벡터가 들어가도록 텐서를 정의\n",
        "inputs = torch.Tensor(1, 10, 5)"
      ]
    },
    {
      "cell_type": "code",
      "execution_count": 6,
      "metadata": {},
      "outputs": [],
      "source": [
        "cell = nn.RNN(input_size, hidden_size, batch_first=True)"
      ]
    },
    {
      "cell_type": "code",
      "execution_count": 7,
      "metadata": {},
      "outputs": [],
      "source": [
        "outputs, _status = cell(inputs)"
      ]
    },
    {
      "cell_type": "code",
      "execution_count": 9,
      "metadata": {},
      "outputs": [
        {
          "name": "stdout",
          "output_type": "stream",
          "text": [
            "torch.Size([1, 10, 8])\n"
          ]
        }
      ],
      "source": [
        "# 10번의 시점동안 8차원의 은닉상태가 출력\n",
        "print(outputs.shape) # 모든 time-step의 hidden_state"
      ]
    },
    {
      "cell_type": "code",
      "execution_count": 11,
      "metadata": {},
      "outputs": [
        {
          "name": "stdout",
          "output_type": "stream",
          "text": [
            "torch.Size([1, 1, 8])\n"
          ]
        }
      ],
      "source": [
        "# 다시 말해 마지막 시점의 은닉 상태의 크기를 확인해보겠습니다.\n",
        "print(_status.shape) # 최종 time-step의 hidden_state"
      ]
    },
    {
      "cell_type": "code",
      "execution_count": 12,
      "metadata": {},
      "outputs": [],
      "source": [
        "# 이 2개인 깊은 순환 신경망의 경우, 앞서 실습했던 임의의 입력에 대해서 출력\n",
        "cell = nn.RNN(input_size = 5, hidden_size = 8, num_layers = 2, batch_first=True)"
      ]
    },
    {
      "cell_type": "code",
      "execution_count": 15,
      "metadata": {},
      "outputs": [],
      "source": [
        "outputs, _status = cell(inputs)"
      ]
    },
    {
      "cell_type": "code",
      "execution_count": 16,
      "metadata": {},
      "outputs": [
        {
          "name": "stdout",
          "output_type": "stream",
          "text": [
            "torch.Size([1, 10, 8])\n"
          ]
        }
      ],
      "source": [
        "print(outputs.shape) # 모든 time-step의 hidden_state"
      ]
    },
    {
      "cell_type": "code",
      "execution_count": 17,
      "metadata": {},
      "outputs": [
        {
          "name": "stdout",
          "output_type": "stream",
          "text": [
            "torch.Size([2, 1, 8])\n"
          ]
        }
      ],
      "source": [
        "print(_status.shape) # (층의 개수, 배치 크기, 은닉 상태의 크기)"
      ]
    }
  ],
  "metadata": {
    "colab": {
      "provenance": []
    },
    "kernelspec": {
      "display_name": "Python 3",
      "name": "python3"
    },
    "language_info": {
      "codemirror_mode": {
        "name": "ipython",
        "version": 3
      },
      "file_extension": ".py",
      "mimetype": "text/x-python",
      "name": "python",
      "nbconvert_exporter": "python",
      "pygments_lexer": "ipython3",
      "version": "3.11.7"
    }
  },
  "nbformat": 4,
  "nbformat_minor": 0
}
