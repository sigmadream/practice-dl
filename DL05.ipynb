{
 "cells": [
  {
   "cell_type": "markdown",
   "metadata": {},
   "source": [
    "---\n",
    "title: Day5. VGG와 ResNet 학습하기 실습(Hands-On)\n",
    "---"
   ]
  },
  {
   "cell_type": "code",
   "execution_count": 3,
   "metadata": {},
   "outputs": [],
   "source": [
    "import torch\n",
    "import torch.nn as nn\n",
    "import tqdm\n",
    "\n",
    "from torchvision.datasets.cifar import CIFAR10\n",
    "from torchvision.transforms import Compose, ToTensor\n",
    "from torchvision.transforms import RandomHorizontalFlip, RandomCrop\n",
    "from torchvision.transforms import Normalize\n",
    "from torch.utils.data.dataloader import DataLoader\n",
    "from torch.optim.adam import Adam"
   ]
  },
  {
   "cell_type": "code",
   "execution_count": 2,
   "metadata": {},
   "outputs": [],
   "source": [
    "transforms = Compose([\n",
    "   RandomCrop((32, 32), padding=4),\n",
    "   RandomHorizontalFlip(p=0.5),\n",
    "   ToTensor(),\n",
    "   Normalize(mean=(0.4914, 0.4822, 0.4465), std=(0.247, 0.243, 0.261))\n",
    "])"
   ]
  },
  {
   "cell_type": "code",
   "execution_count": 3,
   "metadata": {},
   "outputs": [
    {
     "name": "stdout",
     "output_type": "stream",
     "text": [
      "Files already downloaded and verified\n",
      "Files already downloaded and verified\n"
     ]
    }
   ],
   "source": [
    "train = CIFAR10(root=\"data\", train=True, download=True, transform=transforms)\n",
    "test = CIFAR10(root=\"data\", train=False, download=True, transform=transforms)\n",
    "train_loader = DataLoader(train, batch_size=32, shuffle=True)\n",
    "test_loader = DataLoader(test, batch_size=32, shuffle=False)"
   ]
  },
  {
   "cell_type": "markdown",
   "metadata": {},
   "source": [
    "## ResNet"
   ]
  },
  {
   "cell_type": "code",
   "execution_count": 4,
   "metadata": {},
   "outputs": [],
   "source": [
    "class BasicBlock(nn.Module):\n",
    "   def __init__(self, in_channels, out_channels, kernel_size=3):\n",
    "       super(BasicBlock, self).__init__()\n",
    "       self.c1 = nn.Conv2d(in_channels, out_channels,kernel_size=kernel_size, padding=1)\n",
    "       self.c2 = nn.Conv2d(out_channels, out_channels,kernel_size=kernel_size, padding=1)\n",
    "       self.downsample = nn.Conv2d(in_channels, out_channels,kernel_size=1)\n",
    "       self.bn1 = nn.BatchNorm2d(num_features=out_channels)\n",
    "       self.bn2 = nn.BatchNorm2d(num_features=out_channels)\n",
    "       self.relu = nn.ReLU()\n",
    "   def forward(self, x):\n",
    "       x_ = x\n",
    "       x = self.c1(x)\n",
    "       x = self.bn1(x)\n",
    "       x = self.relu(x)\n",
    "       x = self.c2(x)\n",
    "       x = self.bn2(x)\n",
    "       x_ = self.downsample(x_)\n",
    "       x += x_\n",
    "       x = self.relu(x)\n",
    "       return x"
   ]
  },
  {
   "cell_type": "code",
   "execution_count": 5,
   "metadata": {},
   "outputs": [],
   "source": [
    "class ResNet(nn.Module):\n",
    "   def __init__(self, num_classes=10):\n",
    "       super(ResNet, self).__init__()\n",
    "       self.b1 = BasicBlock(in_channels=3, out_channels=64)\n",
    "       self.b2 = BasicBlock(in_channels=64, out_channels=128)\n",
    "       self.b3 = BasicBlock(in_channels=128, out_channels=256)\n",
    "       self.pool = nn.AvgPool2d(kernel_size=2, stride=2)\n",
    "       self.fc1 = nn.Linear(in_features=4096, out_features=2048)\n",
    "       self.fc2 = nn.Linear(in_features=2048, out_features=512)\n",
    "       self.fc3 = nn.Linear(in_features=512, out_features=num_classes)\n",
    "\n",
    "       self.relu = nn.ReLU()\n",
    "   def forward(self, x):\n",
    "       x = self.b1(x)\n",
    "       x = self.pool(x)\n",
    "       x = self.b2(x)\n",
    "       x = self.pool(x)\n",
    "       x = self.b3(x)\n",
    "       x = self.pool(x)\n",
    "       x = torch.flatten(x, start_dim=1)\n",
    "       x = self.fc1(x)\n",
    "       x = self.relu(x)\n",
    "       x = self.fc2(x)\n",
    "       x = self.relu(x)\n",
    "       x = self.fc3(x)\n",
    "       return x"
   ]
  },
  {
   "cell_type": "code",
   "execution_count": 6,
   "metadata": {},
   "outputs": [
    {
     "data": {
      "text/plain": [
       "ResNet(\n",
       "  (b1): BasicBlock(\n",
       "    (c1): Conv2d(3, 64, kernel_size=(3, 3), stride=(1, 1), padding=(1, 1))\n",
       "    (c2): Conv2d(64, 64, kernel_size=(3, 3), stride=(1, 1), padding=(1, 1))\n",
       "    (downsample): Conv2d(3, 64, kernel_size=(1, 1), stride=(1, 1))\n",
       "    (bn1): BatchNorm2d(64, eps=1e-05, momentum=0.1, affine=True, track_running_stats=True)\n",
       "    (bn2): BatchNorm2d(64, eps=1e-05, momentum=0.1, affine=True, track_running_stats=True)\n",
       "    (relu): ReLU()\n",
       "  )\n",
       "  (b2): BasicBlock(\n",
       "    (c1): Conv2d(64, 128, kernel_size=(3, 3), stride=(1, 1), padding=(1, 1))\n",
       "    (c2): Conv2d(128, 128, kernel_size=(3, 3), stride=(1, 1), padding=(1, 1))\n",
       "    (downsample): Conv2d(64, 128, kernel_size=(1, 1), stride=(1, 1))\n",
       "    (bn1): BatchNorm2d(128, eps=1e-05, momentum=0.1, affine=True, track_running_stats=True)\n",
       "    (bn2): BatchNorm2d(128, eps=1e-05, momentum=0.1, affine=True, track_running_stats=True)\n",
       "    (relu): ReLU()\n",
       "  )\n",
       "  (b3): BasicBlock(\n",
       "    (c1): Conv2d(128, 256, kernel_size=(3, 3), stride=(1, 1), padding=(1, 1))\n",
       "    (c2): Conv2d(256, 256, kernel_size=(3, 3), stride=(1, 1), padding=(1, 1))\n",
       "    (downsample): Conv2d(128, 256, kernel_size=(1, 1), stride=(1, 1))\n",
       "    (bn1): BatchNorm2d(256, eps=1e-05, momentum=0.1, affine=True, track_running_stats=True)\n",
       "    (bn2): BatchNorm2d(256, eps=1e-05, momentum=0.1, affine=True, track_running_stats=True)\n",
       "    (relu): ReLU()\n",
       "  )\n",
       "  (pool): AvgPool2d(kernel_size=2, stride=2, padding=0)\n",
       "  (fc1): Linear(in_features=4096, out_features=2048, bias=True)\n",
       "  (fc2): Linear(in_features=2048, out_features=512, bias=True)\n",
       "  (fc3): Linear(in_features=512, out_features=10, bias=True)\n",
       "  (relu): ReLU()\n",
       ")"
      ]
     },
     "execution_count": 6,
     "metadata": {},
     "output_type": "execute_result"
    }
   ],
   "source": [
    "device = \"cuda\" if torch.cuda.is_available() else \"cpu\"\n",
    "model = ResNet(num_classes=10)\n",
    "model.to(device)"
   ]
  },
  {
   "cell_type": "code",
   "execution_count": 7,
   "metadata": {},
   "outputs": [
    {
     "name": "stderr",
     "output_type": "stream",
     "text": [
      "epoch:1 loss:1.2963857650756836: 100%|██████████| 1563/1563 [02:35<00:00, 10.08it/s]\n"
     ]
    }
   ],
   "source": [
    "lr = 1e-4\n",
    "optim = Adam(model.parameters(), lr=lr)\n",
    "\n",
    "for epoch in range(1):\n",
    "   iterator = tqdm.tqdm(train_loader)\n",
    "   for data, label in iterator:\n",
    "       optim.zero_grad()\n",
    "       preds = model(data.to(device))\n",
    "       loss = nn.CrossEntropyLoss()(preds, label.to(device))\n",
    "       loss.backward()\n",
    "       optim.step()\n",
    "       iterator.set_description(f\"epoch:{epoch+1} loss:{loss.item()}\")\n",
    "\n",
    "torch.save(model.state_dict(), \"ResNet.pth\")"
   ]
  },
  {
   "cell_type": "code",
   "execution_count": 9,
   "metadata": {},
   "outputs": [
    {
     "name": "stdout",
     "output_type": "stream",
     "text": [
      "Accuracy:62.23\n"
     ]
    }
   ],
   "source": [
    "model.load_state_dict(torch.load(\"ResNet.pth\", map_location=device))\n",
    "num_corr = 0\n",
    "with torch.no_grad():\n",
    "   for data, label in test_loader:\n",
    "       output = model(data.to(device))\n",
    "       preds = output.data.max(1)[1]\n",
    "       corr = preds.eq(label.to(device).data).sum().item()\n",
    "       num_corr += corr\n",
    "   print(f\"Accuracy:{(num_corr/len(test)) * 100.0}\")"
   ]
  },
  {
   "cell_type": "markdown",
   "metadata": {},
   "source": [
    "## VGG 전이학습"
   ]
  },
  {
   "cell_type": "code",
   "execution_count": 7,
   "metadata": {},
   "outputs": [
    {
     "data": {
      "text/plain": [
       "VGG(\n",
       "  (features): Sequential(\n",
       "    (0): Conv2d(3, 64, kernel_size=(3, 3), stride=(1, 1), padding=(1, 1))\n",
       "    (1): ReLU(inplace=True)\n",
       "    (2): Conv2d(64, 64, kernel_size=(3, 3), stride=(1, 1), padding=(1, 1))\n",
       "    (3): ReLU(inplace=True)\n",
       "    (4): MaxPool2d(kernel_size=2, stride=2, padding=0, dilation=1, ceil_mode=False)\n",
       "    (5): Conv2d(64, 128, kernel_size=(3, 3), stride=(1, 1), padding=(1, 1))\n",
       "    (6): ReLU(inplace=True)\n",
       "    (7): Conv2d(128, 128, kernel_size=(3, 3), stride=(1, 1), padding=(1, 1))\n",
       "    (8): ReLU(inplace=True)\n",
       "    (9): MaxPool2d(kernel_size=2, stride=2, padding=0, dilation=1, ceil_mode=False)\n",
       "    (10): Conv2d(128, 256, kernel_size=(3, 3), stride=(1, 1), padding=(1, 1))\n",
       "    (11): ReLU(inplace=True)\n",
       "    (12): Conv2d(256, 256, kernel_size=(3, 3), stride=(1, 1), padding=(1, 1))\n",
       "    (13): ReLU(inplace=True)\n",
       "    (14): Conv2d(256, 256, kernel_size=(3, 3), stride=(1, 1), padding=(1, 1))\n",
       "    (15): ReLU(inplace=True)\n",
       "    (16): MaxPool2d(kernel_size=2, stride=2, padding=0, dilation=1, ceil_mode=False)\n",
       "    (17): Conv2d(256, 512, kernel_size=(3, 3), stride=(1, 1), padding=(1, 1))\n",
       "    (18): ReLU(inplace=True)\n",
       "    (19): Conv2d(512, 512, kernel_size=(3, 3), stride=(1, 1), padding=(1, 1))\n",
       "    (20): ReLU(inplace=True)\n",
       "    (21): Conv2d(512, 512, kernel_size=(3, 3), stride=(1, 1), padding=(1, 1))\n",
       "    (22): ReLU(inplace=True)\n",
       "    (23): MaxPool2d(kernel_size=2, stride=2, padding=0, dilation=1, ceil_mode=False)\n",
       "    (24): Conv2d(512, 512, kernel_size=(3, 3), stride=(1, 1), padding=(1, 1))\n",
       "    (25): ReLU(inplace=True)\n",
       "    (26): Conv2d(512, 512, kernel_size=(3, 3), stride=(1, 1), padding=(1, 1))\n",
       "    (27): ReLU(inplace=True)\n",
       "    (28): Conv2d(512, 512, kernel_size=(3, 3), stride=(1, 1), padding=(1, 1))\n",
       "    (29): ReLU(inplace=True)\n",
       "    (30): MaxPool2d(kernel_size=2, stride=2, padding=0, dilation=1, ceil_mode=False)\n",
       "  )\n",
       "  (avgpool): AdaptiveAvgPool2d(output_size=(7, 7))\n",
       "  (classifier): Sequential(\n",
       "    (0): Linear(in_features=25088, out_features=4096, bias=True)\n",
       "    (1): ReLU()\n",
       "    (2): Dropout(p=0.5, inplace=False)\n",
       "    (3): Linear(in_features=4096, out_features=4096, bias=True)\n",
       "    (4): ReLU()\n",
       "    (5): Dropout(p=0.5, inplace=False)\n",
       "    (6): Linear(in_features=4096, out_features=10, bias=True)\n",
       "  )\n",
       ")"
      ]
     },
     "execution_count": 7,
     "metadata": {},
     "output_type": "execute_result"
    }
   ],
   "source": [
    "import torch\n",
    "import torch.nn as nn\n",
    "from torchvision.models.vgg import vgg16, VGG16_Weights\n",
    "\n",
    "device = \"cuda\" if torch.cuda.is_available() else \"cpu\"\n",
    "\n",
    "model = vgg16(weights=VGG16_Weights.DEFAULT) # vgg 16 모델을 불러옴\n",
    "\n",
    "fc = nn.Sequential(                     # 분류층을 정의\n",
    "       nn.Linear(512 * 7 * 7, 4096),\n",
    "       nn.ReLU(),\n",
    "       nn.Dropout(), # 드롭아웃을 추가\n",
    "       nn.Linear(4096, 4096),\n",
    "       nn.ReLU(),\n",
    "       nn.Dropout(),\n",
    "       nn.Linear(4096, 10),\n",
    "   )\n",
    "\n",
    "model.classifier = fc # 분류층을 모델에 붙임\n",
    "model.to(device)"
   ]
  },
  {
   "cell_type": "code",
   "execution_count": 13,
   "metadata": {},
   "outputs": [
    {
     "name": "stderr",
     "output_type": "stream",
     "text": [
      "epoch:1 loss:0.28979870676994324: 100%|██████████| 1563/1563 [14:09<00:00,  1.84it/s]\n"
     ]
    }
   ],
   "source": [
    "lr = 1e-4\n",
    "optim = Adam(model.parameters(), lr=lr)\n",
    "\n",
    "for epoch in range(1):\n",
    "   iterator = tqdm.tqdm(train_loader) # 학습 로그 출력\n",
    "   for data, label in iterator:\n",
    "       optim.zero_grad()\n",
    "       preds = model(data.to(device)) # 모델의 예측값 출력\n",
    "       loss = nn.CrossEntropyLoss()(preds, label.to(device))\n",
    "       loss.backward()\n",
    "       optim.step()\n",
    "       iterator.set_description(f\"epoch:{epoch+1} loss:{loss.item()}\")\n",
    "torch.save(model.state_dict(), \"CIFAR_pretrained.pth\") # 모델 저장"
   ]
  },
  {
   "cell_type": "code",
   "execution_count": 14,
   "metadata": {},
   "outputs": [
    {
     "name": "stdout",
     "output_type": "stream",
     "text": [
      "Accuracy:81.58999999999999\n"
     ]
    }
   ],
   "source": [
    "model.load_state_dict(torch.load(\"CIFAR_pretrained.pth\", map_location=device))\n",
    "num_corr = 0\n",
    "with torch.no_grad():\n",
    "   for data, label in test_loader:\n",
    "       output = model(data.to(device))\n",
    "       preds = output.data.max(1)[1]\n",
    "       corr = preds.eq(label.to(device).data).sum().item()\n",
    "       num_corr += corr\n",
    "   print(f\"Accuracy:{(num_corr/len(test))*100.0}\")"
   ]
  },
  {
   "cell_type": "markdown",
   "metadata": {},
   "source": [
    "### 분류기의 파라메터 확인"
   ]
  },
  {
   "cell_type": "code",
   "execution_count": 4,
   "metadata": {},
   "outputs": [],
   "source": [
    "transforms = Compose([\n",
    "   RandomCrop((32, 32), padding=4),\n",
    "   RandomHorizontalFlip(p=0.5),\n",
    "   ToTensor(),\n",
    "   Normalize(mean=(0.4914, 0.4822, 0.4465), std=(0.247, 0.243, 0.261))\n",
    "])"
   ]
  },
  {
   "cell_type": "code",
   "execution_count": 5,
   "metadata": {},
   "outputs": [
    {
     "name": "stdout",
     "output_type": "stream",
     "text": [
      "Downloading https://www.cs.toronto.edu/~kriz/cifar-10-python.tar.gz to data\\cifar-10-python.tar.gz\n"
     ]
    },
    {
     "name": "stderr",
     "output_type": "stream",
     "text": [
      "100%|██████████| 170498071/170498071 [00:36<00:00, 4632622.12it/s]\n"
     ]
    },
    {
     "name": "stdout",
     "output_type": "stream",
     "text": [
      "Extracting data\\cifar-10-python.tar.gz to data\n",
      "Files already downloaded and verified\n"
     ]
    }
   ],
   "source": [
    "train = CIFAR10(root=\"data\", train=True, download=True, transform=transforms)\n",
    "test = CIFAR10(root=\"data\", train=False, download=True, transform=transforms)\n",
    "train_loader = DataLoader(train, batch_size=32, shuffle=True)\n",
    "test_loader = DataLoader(test, batch_size=32, shuffle=False)"
   ]
  },
  {
   "cell_type": "code",
   "execution_count": 6,
   "metadata": {},
   "outputs": [
    {
     "name": "stdout",
     "output_type": "stream",
     "text": [
      "(50000, 32, 32, 3)\n"
     ]
    }
   ],
   "source": [
    "print(train.data.shape)"
   ]
  },
  {
   "cell_type": "code",
   "execution_count": 8,
   "metadata": {},
   "outputs": [
    {
     "data": {
      "text/plain": [
       "==========================================================================================\n",
       "Layer (type:depth-idx)                   Output Shape              Param #\n",
       "==========================================================================================\n",
       "VGG                                      [1, 10]                   --\n",
       "├─Sequential: 1-1                        [1, 512, 1, 1]            --\n",
       "│    └─Conv2d: 2-1                       [1, 64, 32, 32]           1,792\n",
       "│    └─ReLU: 2-2                         [1, 64, 32, 32]           --\n",
       "│    └─Conv2d: 2-3                       [1, 64, 32, 32]           36,928\n",
       "│    └─ReLU: 2-4                         [1, 64, 32, 32]           --\n",
       "│    └─MaxPool2d: 2-5                    [1, 64, 16, 16]           --\n",
       "│    └─Conv2d: 2-6                       [1, 128, 16, 16]          73,856\n",
       "│    └─ReLU: 2-7                         [1, 128, 16, 16]          --\n",
       "│    └─Conv2d: 2-8                       [1, 128, 16, 16]          147,584\n",
       "│    └─ReLU: 2-9                         [1, 128, 16, 16]          --\n",
       "│    └─MaxPool2d: 2-10                   [1, 128, 8, 8]            --\n",
       "│    └─Conv2d: 2-11                      [1, 256, 8, 8]            295,168\n",
       "│    └─ReLU: 2-12                        [1, 256, 8, 8]            --\n",
       "│    └─Conv2d: 2-13                      [1, 256, 8, 8]            590,080\n",
       "│    └─ReLU: 2-14                        [1, 256, 8, 8]            --\n",
       "│    └─Conv2d: 2-15                      [1, 256, 8, 8]            590,080\n",
       "│    └─ReLU: 2-16                        [1, 256, 8, 8]            --\n",
       "│    └─MaxPool2d: 2-17                   [1, 256, 4, 4]            --\n",
       "│    └─Conv2d: 2-18                      [1, 512, 4, 4]            1,180,160\n",
       "│    └─ReLU: 2-19                        [1, 512, 4, 4]            --\n",
       "│    └─Conv2d: 2-20                      [1, 512, 4, 4]            2,359,808\n",
       "│    └─ReLU: 2-21                        [1, 512, 4, 4]            --\n",
       "│    └─Conv2d: 2-22                      [1, 512, 4, 4]            2,359,808\n",
       "│    └─ReLU: 2-23                        [1, 512, 4, 4]            --\n",
       "│    └─MaxPool2d: 2-24                   [1, 512, 2, 2]            --\n",
       "│    └─Conv2d: 2-25                      [1, 512, 2, 2]            2,359,808\n",
       "│    └─ReLU: 2-26                        [1, 512, 2, 2]            --\n",
       "│    └─Conv2d: 2-27                      [1, 512, 2, 2]            2,359,808\n",
       "│    └─ReLU: 2-28                        [1, 512, 2, 2]            --\n",
       "│    └─Conv2d: 2-29                      [1, 512, 2, 2]            2,359,808\n",
       "│    └─ReLU: 2-30                        [1, 512, 2, 2]            --\n",
       "│    └─MaxPool2d: 2-31                   [1, 512, 1, 1]            --\n",
       "├─AdaptiveAvgPool2d: 1-2                 [1, 512, 7, 7]            --\n",
       "├─Sequential: 1-3                        [1, 10]                   --\n",
       "│    └─Linear: 2-32                      [1, 4096]                 102,764,544\n",
       "│    └─ReLU: 2-33                        [1, 4096]                 --\n",
       "│    └─Dropout: 2-34                     [1, 4096]                 --\n",
       "│    └─Linear: 2-35                      [1, 4096]                 16,781,312\n",
       "│    └─ReLU: 2-36                        [1, 4096]                 --\n",
       "│    └─Dropout: 2-37                     [1, 4096]                 --\n",
       "│    └─Linear: 2-38                      [1, 10]                   40,970\n",
       "==========================================================================================\n",
       "Total params: 134,301,514\n",
       "Trainable params: 134,301,514\n",
       "Non-trainable params: 0\n",
       "Total mult-adds (Units.MEGABYTES): 433.06\n",
       "==========================================================================================\n",
       "Input size (MB): 0.01\n",
       "Forward/backward pass size (MB): 2.28\n",
       "Params size (MB): 537.21\n",
       "Estimated Total Size (MB): 539.50\n",
       "=========================================================================================="
      ]
     },
     "execution_count": 8,
     "metadata": {},
     "output_type": "execute_result"
    }
   ],
   "source": [
    "from torchinfo import summary\n",
    "summary(model, input_size=(1, 3, 32, 32))"
   ]
  }
 ],
 "metadata": {
  "kernelspec": {
   "display_name": ".venv",
   "language": "python",
   "name": "python3"
  },
  "language_info": {
   "codemirror_mode": {
    "name": "ipython",
    "version": 3
   },
   "file_extension": ".py",
   "mimetype": "text/x-python",
   "name": "python",
   "nbconvert_exporter": "python",
   "pygments_lexer": "ipython3",
   "version": "3.11.7"
  }
 },
 "nbformat": 4,
 "nbformat_minor": 2
}
